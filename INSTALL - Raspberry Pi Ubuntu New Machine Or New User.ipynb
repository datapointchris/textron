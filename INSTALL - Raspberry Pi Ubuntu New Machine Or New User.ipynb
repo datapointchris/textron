{
 "cells": [
  {
   "source": [
    "# Raspberry Pi 3"
   ],
   "cell_type": "markdown",
   "metadata": {}
  },
  {
   "cell_type": "markdown",
   "metadata": {},
   "source": [
    "1. Install the imager from the ubuntu website\n",
    "2. Load onto the pi\n",
    "3. Use a monitor and keyboard\n",
    "4. Change the wifi settings\n",
    "5. See if you can SSH into the machine\n",
    "6. Set up network to give static (reserved/assigned) IP addresses to the pi"
   ]
  },
  {
   "cell_type": "markdown",
   "metadata": {},
   "source": [
    "Install these first:\n",
    "\n",
    "```bash\n",
    "sudo apt-get install gfortran libopenblas-dev liblapack-dev\n",
    "```"
   ]
  },
  {
   "cell_type": "markdown",
   "metadata": {},
   "source": [
    "NVIDIA answer to use apt-get 'python3-*'\n",
    "\n",
    "https://forums.developer.nvidia.com/t/errors-during-install-sklearn/72622"
   ]
  },
  {
   "cell_type": "markdown",
   "metadata": {},
   "source": [
    "Use Pipfile as install file for apt-get\n",
    "delete everything except for the package names\n",
    "insert python3- in front of all of them.  Suggest doing this in a text editor for quicker copy paste and shit\n",
    "run the following command\n",
    "\n",
    "```bash\n",
    "xargs -a requirements.txt sudo apt-get -y install\n",
    "```\n",
    "\n",
    "note which ones it says it can't find, in this case wordcloud and xgboost\n",
    "remove those from the list but write them down somewhere\n",
    "re-run the xargs command and it should install all of them (surprisingly quick)"
   ]
  },
  {
   "cell_type": "markdown",
   "metadata": {},
   "source": [
    "Now you have to pip install the other programs\n",
    "\n",
    "```bash\n",
    "pip3 install wordcloud\n",
    "pip3 install xgboost\n",
    "```\n",
    "\n",
    "The install will FAIL.\n",
    "If you look at the error it says you don't have cmake\n",
    "\n",
    "```bash\n",
    "sudo apt-get -y install cmake\n",
    "```\n",
    "\n",
    "Now you can try to pip install xgboost and it should complete"
   ]
  },
  {
   "cell_type": "markdown",
   "metadata": {},
   "source": [
    "Fix for the timeout issues instaling XGBoost maybe\n",
    "\n",
    "https://www.blackmoreops.com/2014/09/22/linux-kernel-panic-issue-fix-hung_task_timeout_secs-blocked-120-seconds-problem/"
   ]
  },
  {
   "cell_type": "code",
   "execution_count": null,
   "metadata": {},
   "outputs": [],
   "source": []
  },
  {
   "cell_type": "markdown",
   "metadata": {},
   "source": [
    "# New Ubuntu Server"
   ]
  },
  {
   "cell_type": "markdown",
   "metadata": {},
   "source": [
    "## If using AWS to start\n",
    "\n",
    "Must do chmod 600 XXX.pem"
   ]
  },
  {
   "cell_type": "markdown",
   "metadata": {},
   "source": [
    "If this is the first time setting this up:\n",
    "\n",
    "```bash\n",
    "sudo apt update\n",
    "sudo apt upgrade -y\n",
    "```"
   ]
  },
  {
   "cell_type": "markdown",
   "metadata": {},
   "source": [
    "I prefer to use screen to connect to terminal so that the SSH doesn't kill my running process:\n",
    "```bash\n",
    "sudo apt install tmux\n",
    "\n",
    "wget https://datapointchris.s3.us-east-2.amazonaws.com/.tmux.conf\n",
    "```"
   ]
  },
  {
   "cell_type": "markdown",
   "metadata": {},
   "source": [
    "NOTE: the `-y` command makes it so it doesn't ask you yes for every package!\n",
    "\n",
    "```bash\n",
    "\n",
    "sudo apt-get install -y make build-essential libssl-dev zlib1g-dev \\\n",
    "libbz2-dev libreadline-dev libsqlite3-dev wget curl llvm libncurses5-dev \\\n",
    "libncursesw5-dev xz-utils tk-dev libffi-dev liblzma-dev python3-openssl git python3-pip\n",
    "\n",
    "curl https://pyenv.run | bash\n",
    "\n",
    "```"
   ]
  },
  {
   "cell_type": "markdown",
   "metadata": {},
   "source": [
    "Paste the following into the bashrc file:\n",
    "\n",
    "```bash\n",
    "echo 'export PATH=\"$HOME/.pyenv/bin:$PATH\"' >> ~/.bashrc\n",
    "echo 'eval \"$(pyenv init -)\"' >> ~/.bashrc\n",
    "echo 'eval \"$(pyenv virtualenv-init -)\"' >> ~/.bashrc\n",
    "```"
   ]
  },
  {
   "cell_type": "markdown",
   "metadata": {},
   "source": [
    "Save and exit then\n",
    "\n",
    "```bash\n",
    "exec \"$SHELL\"\n",
    "```"
   ]
  },
  {
   "cell_type": "markdown",
   "metadata": {},
   "source": [
    "Decide what you need from list (or the requirements file or Pipfile)\n",
    "```bash\n",
    "pyenv install 3.8.2\n",
    "```"
   ]
  },
  {
   "cell_type": "markdown",
   "metadata": {},
   "source": [
    "Create the directory for your project and git clone it.  Cloning creates a directory with the name of the project.\n",
    "\n",
    "```bash\n",
    "git clone https://github.com/DataPointChris/reddit_nlp.git\n",
    "cd reddit_nlp\n",
    "```"
   ]
  },
  {
   "cell_type": "markdown",
   "metadata": {},
   "source": [
    "Use pipenv to install all of the dependencies\n",
    "\n",
    "```bash\n",
    "pipenv sync\n",
    "```"
   ]
  },
  {
   "cell_type": "markdown",
   "metadata": {},
   "source": [
    "Might have to do:\n",
    "\n",
    "pipenv install ipykernel  \n",
    "pipenv run jupyter notebook OR  \n",
    "pipenv shell --> jupyter notebook\n",
    "\n",
    "NOTE: Need to check on this"
   ]
  },
  {
   "cell_type": "markdown",
   "metadata": {},
   "source": [
    "Setting up new account and user\n",
    "\n",
    "https://hackersandslackers.com/running-jupyter-notebooks-on-a-ubuntu-server/"
   ]
  },
  {
   "cell_type": "markdown",
   "metadata": {},
   "source": [
    "Pipenv Jupyter and VSCode  \n",
    "https://towardsdatascience.com/how-to-use-pipenv-with-jupyter-and-vscode-ae0e970df486"
   ]
  }
 ],
 "metadata": {
  "kernelspec": {
   "display_name": "Python 3",
   "language": "python",
   "name": "python3"
  },
  "language_info": {
   "codemirror_mode": {
    "name": "ipython",
    "version": 3
   },
   "file_extension": ".py",
   "mimetype": "text/x-python",
   "name": "python",
   "nbconvert_exporter": "python",
   "pygments_lexer": "ipython3",
   "version": "3.8.2-final"
  },
  "toc": {
   "base_numbering": 1,
   "nav_menu": {},
   "number_sections": true,
   "sideBar": true,
   "skip_h1_title": false,
   "title_cell": "Table of Contents",
   "title_sidebar": "Contents",
   "toc_cell": false,
   "toc_position": {},
   "toc_section_display": true,
   "toc_window_display": false
  },
  "varInspector": {
   "cols": {
    "lenName": 16,
    "lenType": 16,
    "lenVar": 40
   },
   "kernels_config": {
    "python": {
     "delete_cmd_postfix": "",
     "delete_cmd_prefix": "del ",
     "library": "var_list.py",
     "varRefreshCmd": "print(var_dic_list())"
    },
    "r": {
     "delete_cmd_postfix": ") ",
     "delete_cmd_prefix": "rm(",
     "library": "var_list.r",
     "varRefreshCmd": "cat(var_dic_list()) "
    }
   },
   "types_to_exclude": [
    "module",
    "function",
    "builtin_function_or_method",
    "instance",
    "_Feature"
   ],
   "window_display": false
  }
 },
 "nbformat": 4,
 "nbformat_minor": 4
}
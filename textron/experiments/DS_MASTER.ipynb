{
 "cells": [
  {
   "cell_type": "markdown",
   "metadata": {},
   "source": [
    "# Data Science Workflow\n",
    "\n",
    "This is a notebook for testing all of the functions to go through an entire data science workflow of running NLP on chosen subreddits.\n",
    "\n",
    "**Future**\n",
    "- DF functions should be removed from workflow and imported using a class.\n",
    "- Multiple example DS outcomes would be nice."
   ]
  },
  {
   "cell_type": "markdown",
   "metadata": {},
   "source": [
    "---"
   ]
  },
  {
   "cell_type": "code",
   "execution_count": 1,
   "metadata": {},
   "outputs": [],
   "source": [
    "import pandas as pd\n",
    "import numpy as np\n",
    "from sklearn.feature_extraction.text import CountVectorizer, TfidfVectorizer, ENGLISH_STOP_WORDS\n",
    "from sklearn.pipeline import Pipeline\n",
    "from sklearn.model_selection import train_test_split, GridSearchCV\n",
    "from sklearn.linear_model import LogisticRegression\n",
    "from sklearn.neighbors import KNeighborsClassifier\n",
    "from sklearn.ensemble import RandomForestClassifier, ExtraTreesClassifier\n",
    "from sklearn.metrics import confusion_matrix, multilabel_confusion_matrix\n",
    "from sklearn.metrics import roc_auc_score, roc_curve, classification_report\n",
    "from sklearn.naive_bayes import MultinomialNB\n",
    "from sklearn.svm import SVC\n",
    "from PIL import Image\n",
    "import wordcloud\n",
    "import time\n",
    "import datetime\n",
    "import seaborn as sns\n",
    "import matplotlib.pyplot as plt\n",
    "%matplotlib inline\n",
    "from glob import glob\n",
    "from pprint import pprint"
   ]
  },
  {
   "cell_type": "code",
   "execution_count": 2,
   "metadata": {},
   "outputs": [],
   "source": [
    "from helpers import databases\n",
    "from helpers import dataloader\n",
    "from helpers import grid_models\n",
    "from helpers.reddit_functions import Reddit"
   ]
  },
  {
   "cell_type": "code",
   "execution_count": null,
   "metadata": {},
   "outputs": [],
   "source": []
  },
  {
   "cell_type": "code",
   "execution_count": 3,
   "metadata": {},
   "outputs": [],
   "source": [
    "# subreddit_list = ['css', 'html', 'javascript', 'php', 'perl', 'java', 'datascience', 'machinelearning', 'etl', 'python', 'dataengineering']"
   ]
  },
  {
   "cell_type": "markdown",
   "metadata": {},
   "source": [
    "## Data Engineers Above Here"
   ]
  },
  {
   "cell_type": "markdown",
   "metadata": {},
   "source": [
    "## Data Scientists Here ---"
   ]
  },
  {
   "cell_type": "code",
   "execution_count": 4,
   "metadata": {},
   "outputs": [],
   "source": [
    "subreddit_list = ['datascience','machinelearning','dataengineering','python','aws']"
   ]
  },
  {
   "cell_type": "code",
   "execution_count": 5,
   "metadata": {
    "scrolled": false
   },
   "outputs": [
    {
     "name": "stdout",
     "output_type": "stream",
     "text": [
      "Connection to SQLite DB successful\n"
     ]
    }
   ],
   "source": [
    "df = dataloader.data_selector(subreddit_list, 'sqlite')"
   ]
  },
  {
   "cell_type": "code",
   "execution_count": 6,
   "metadata": {},
   "outputs": [
    {
     "data": {
      "text/plain": [
       "['datascience', 'machinelearning', 'dataengineering', 'python', 'aws']"
      ]
     },
     "execution_count": 6,
     "metadata": {},
     "output_type": "execute_result"
    }
   ],
   "source": [
    "# get rid of list items with no data retrieved\n",
    "subreddit_list = [sub for sub in subreddit_list if sub in df.subreddit.unique()]\n",
    "subreddit_list"
   ]
  },
  {
   "cell_type": "code",
   "execution_count": 7,
   "metadata": {
    "scrolled": true
   },
   "outputs": [
    {
     "name": "stdout",
     "output_type": "stream",
     "text": [
      "Subreddits and codes added: {'aws': 0, 'datascience': 1, 'machinelearning': 2, 'python': 3, 'dataengineering': 4}\n"
     ]
    }
   ],
   "source": [
    "df = dataloader.subreddit_encoder(df)"
   ]
  },
  {
   "cell_type": "code",
   "execution_count": 8,
   "metadata": {},
   "outputs": [
    {
     "data": {
      "text/html": [
       "<div>\n",
       "<style scoped>\n",
       "    .dataframe tbody tr th:only-of-type {\n",
       "        vertical-align: middle;\n",
       "    }\n",
       "\n",
       "    .dataframe tbody tr th {\n",
       "        vertical-align: top;\n",
       "    }\n",
       "\n",
       "    .dataframe thead th {\n",
       "        text-align: right;\n",
       "    }\n",
       "</style>\n",
       "<table border=\"1\" class=\"dataframe\">\n",
       "  <thead>\n",
       "    <tr style=\"text-align: right;\">\n",
       "      <th></th>\n",
       "      <th>title</th>\n",
       "      <th>subreddit</th>\n",
       "      <th>date</th>\n",
       "      <th>sub_code</th>\n",
       "    </tr>\n",
       "  </thead>\n",
       "  <tbody>\n",
       "    <tr>\n",
       "      <th>217</th>\n",
       "      <td>I want to learn how to use AWS for Mobile deve...</td>\n",
       "      <td>aws</td>\n",
       "      <td>2020-03-29</td>\n",
       "      <td>0</td>\n",
       "    </tr>\n",
       "    <tr>\n",
       "      <th>2306</th>\n",
       "      <td>Scalable Multi-Task Imitation Learning with Au...</td>\n",
       "      <td>machinelearning</td>\n",
       "      <td>2020-03-29</td>\n",
       "      <td>2</td>\n",
       "    </tr>\n",
       "    <tr>\n",
       "      <th>382</th>\n",
       "      <td>Using SSM for patching (this is the most confu...</td>\n",
       "      <td>aws</td>\n",
       "      <td>2020-03-29</td>\n",
       "      <td>0</td>\n",
       "    </tr>\n",
       "    <tr>\n",
       "      <th>1925</th>\n",
       "      <td>[R] Unboxing the \"Black Box\": Learning Interpr...</td>\n",
       "      <td>machinelearning</td>\n",
       "      <td>2020-03-29</td>\n",
       "      <td>2</td>\n",
       "    </tr>\n",
       "    <tr>\n",
       "      <th>3898</th>\n",
       "      <td>Career Advice to switch to Data engineering.</td>\n",
       "      <td>dataengineering</td>\n",
       "      <td>2020-03-29</td>\n",
       "      <td>4</td>\n",
       "    </tr>\n",
       "    <tr>\n",
       "      <th>3660</th>\n",
       "      <td>I made a bot for a sudoku game</td>\n",
       "      <td>python</td>\n",
       "      <td>2020-03-29</td>\n",
       "      <td>3</td>\n",
       "    </tr>\n",
       "    <tr>\n",
       "      <th>3124</th>\n",
       "      <td>How would you make it so each square gets bigg...</td>\n",
       "      <td>python</td>\n",
       "      <td>2020-03-29</td>\n",
       "      <td>3</td>\n",
       "    </tr>\n",
       "    <tr>\n",
       "      <th>136</th>\n",
       "      <td>URL redirects question /folders</td>\n",
       "      <td>aws</td>\n",
       "      <td>2020-03-29</td>\n",
       "      <td>0</td>\n",
       "    </tr>\n",
       "    <tr>\n",
       "      <th>168</th>\n",
       "      <td>git repository only accessible within workspaces?</td>\n",
       "      <td>aws</td>\n",
       "      <td>2020-03-29</td>\n",
       "      <td>0</td>\n",
       "    </tr>\n",
       "    <tr>\n",
       "      <th>3028</th>\n",
       "      <td>Python VDE for Chromebook</td>\n",
       "      <td>python</td>\n",
       "      <td>2020-03-29</td>\n",
       "      <td>3</td>\n",
       "    </tr>\n",
       "  </tbody>\n",
       "</table>\n",
       "</div>"
      ],
      "text/plain": [
       "                                                  title        subreddit  \\\n",
       "217   I want to learn how to use AWS for Mobile deve...              aws   \n",
       "2306  Scalable Multi-Task Imitation Learning with Au...  machinelearning   \n",
       "382   Using SSM for patching (this is the most confu...              aws   \n",
       "1925  [R] Unboxing the \"Black Box\": Learning Interpr...  machinelearning   \n",
       "3898       Career Advice to switch to Data engineering.  dataengineering   \n",
       "3660                     I made a bot for a sudoku game           python   \n",
       "3124  How would you make it so each square gets bigg...           python   \n",
       "136                     URL redirects question /folders              aws   \n",
       "168   git repository only accessible within workspaces?              aws   \n",
       "3028                          Python VDE for Chromebook           python   \n",
       "\n",
       "            date  sub_code  \n",
       "217   2020-03-29         0  \n",
       "2306  2020-03-29         2  \n",
       "382   2020-03-29         0  \n",
       "1925  2020-03-29         2  \n",
       "3898  2020-03-29         4  \n",
       "3660  2020-03-29         3  \n",
       "3124  2020-03-29         3  \n",
       "136   2020-03-29         0  \n",
       "168   2020-03-29         0  \n",
       "3028  2020-03-29         3  "
      ]
     },
     "execution_count": 8,
     "metadata": {},
     "output_type": "execute_result"
    }
   ],
   "source": [
    "df.sample(10)"
   ]
  },
  {
   "cell_type": "markdown",
   "metadata": {},
   "source": [
    "## Make sure doing the train test split right with stratify\n",
    "\n",
    "https://towardsdatascience.com/3-things-you-need-to-know-before-you-train-test-split-869dfabb7e50"
   ]
  },
  {
   "cell_type": "markdown",
   "metadata": {},
   "source": [
    "![stratified k fold](https://embed.filekitcdn.com/e/wW49WBPsD4QcY2GCZ4gYa8/mU1tQ3TsTcyz1fkCkiuSSZ?w=800&fit=max)"
   ]
  },
  {
   "cell_type": "code",
   "execution_count": 9,
   "metadata": {},
   "outputs": [],
   "source": [
    "X = df['title']\n",
    "y = df['sub_code']"
   ]
  },
  {
   "cell_type": "code",
   "execution_count": 10,
   "metadata": {},
   "outputs": [],
   "source": [
    "X_train, X_test, y_train, y_test = train_test_split(X, y, random_state=7)"
   ]
  },
  {
   "cell_type": "code",
   "execution_count": 11,
   "metadata": {},
   "outputs": [],
   "source": [
    "useless_words = set(['using', 'help', 'new', 'data', 'science', 'machine', 'learning', 'use', 'need'])\n",
    "\n",
    "custom_stop_words = ENGLISH_STOP_WORDS.union(subreddit_list, useless_words)"
   ]
  },
  {
   "cell_type": "code",
   "execution_count": 12,
   "metadata": {},
   "outputs": [],
   "source": [
    "redfun = Reddit()"
   ]
  },
  {
   "cell_type": "code",
   "execution_count": 14,
   "metadata": {},
   "outputs": [],
   "source": [
    "preprocessors = grid_models.preprocessors\n",
    "estimators = grid_models.estimators"
   ]
  },
  {
   "cell_type": "code",
   "execution_count": 15,
   "metadata": {},
   "outputs": [
    {
     "name": "stdout",
     "output_type": "stream",
     "text": [
      "{'count_vec': {'abbr': 'count_vec',\n",
      "               'name': 'CountVectorizer',\n",
      "               'pipe_params': {'count_vec__max_df': [0.3, 0.4, 0.5],\n",
      "                               'count_vec__max_features': [5000],\n",
      "                               'count_vec__min_df': [4, 5, 6],\n",
      "                               'count_vec__ngram_range': [(1, 2)],\n",
      "                               'count_vec__stop_words': ['english']},\n",
      "               'processor': CountVectorizer(analyzer='word', binary=False, decode_error='strict',\n",
      "                dtype=<class 'numpy.int64'>, encoding='utf-8', input='content',\n",
      "                lowercase=True, max_df=1.0, max_features=None, min_df=1,\n",
      "                ngram_range=(1, 1), preprocessor=None, stop_words=None,\n",
      "                strip_accents=None, token_pattern='(?u)\\\\b\\\\w\\\\w+\\\\b',\n",
      "                tokenizer=None, vocabulary=None)},\n",
      " 'tfidf': {'abbr': 'tfidf',\n",
      "           'name': 'TfidVectorizer',\n",
      "           'pipe_params': {'tfidf__max_features': [5000],\n",
      "                           'tfidf__ngram_range': [(1, 1)],\n",
      "                           'tfidf__stop_words': ['english'],\n",
      "                           'tfidf__strip_accents': [None]},\n",
      "           'processor': TfidfVectorizer(analyzer='word', binary=False, decode_error='strict',\n",
      "                dtype=<class 'numpy.float64'>, encoding='utf-8',\n",
      "                input='content', lowercase=True, max_df=1.0, max_features=None,\n",
      "                min_df=1, ngram_range=(1, 1), norm='l2', preprocessor=None,\n",
      "                smooth_idf=True, stop_words=None, strip_accents=None,\n",
      "                sublinear_tf=False, token_pattern='(?u)\\\\b\\\\w\\\\w+\\\\b',\n",
      "                tokenizer=None, use_idf=True, vocabulary=None)}}\n"
     ]
    }
   ],
   "source": [
    "pprint(preprocessors)"
   ]
  },
  {
   "cell_type": "code",
   "execution_count": 16,
   "metadata": {},
   "outputs": [
    {
     "name": "stdout",
     "output_type": "stream",
     "text": [
      "{'knearest': {'abbr': 'knearest',\n",
      "              'estimator': KNeighborsClassifier(algorithm='auto', leaf_size=30, metric='minkowski',\n",
      "                     metric_params=None, n_jobs=None, n_neighbors=5, p=2,\n",
      "                     weights='uniform'),\n",
      "              'name': 'K Nearest Neighbors',\n",
      "              'pipe_params': {'knearest__metric': ['manhattan'],\n",
      "                              'knearest__n_neighbors': [3, 5, 7]}},\n",
      " 'logreg': {'abbr': 'logreg',\n",
      "            'estimator': LogisticRegression(C=1.0, class_weight=None, dual=False, fit_intercept=True,\n",
      "                   intercept_scaling=1, l1_ratio=None, max_iter=100,\n",
      "                   multi_class='auto', n_jobs=None, penalty='l2',\n",
      "                   random_state=None, solver='lbfgs', tol=0.0001, verbose=0,\n",
      "                   warm_start=False),\n",
      "            'name': 'Logistic Regression',\n",
      "            'pipe_params': {'logreg__C': [0.01, 0.1, 1, 3],\n",
      "                            'logreg__penalty': ['l1', 'l2']}},\n",
      " 'multinomialnb': {'abbr': 'multinomialnb',\n",
      "                   'estimator': MultinomialNB(alpha=1.0, class_prior=None, fit_prior=True),\n",
      "                   'name': 'Multinomial Bayes Classifier',\n",
      "                   'pipe_params': {'multinomialnb__alpha': [0.01, 0.1, 1],\n",
      "                                   'multinomialnb__fit_prior': [False]}},\n",
      " 'random_forest': {'abbr': 'random_forest',\n",
      "                   'estimator': RandomForestClassifier(bootstrap=True, ccp_alpha=0.0, class_weight=None,\n",
      "                       criterion='gini', max_depth=None, max_features='auto',\n",
      "                       max_leaf_nodes=None, max_samples=None,\n",
      "                       min_impurity_decrease=0.0, min_impurity_split=None,\n",
      "                       min_samples_leaf=1, min_samples_split=2,\n",
      "                       min_weight_fraction_leaf=0.0, n_estimators=100,\n",
      "                       n_jobs=None, oob_score=False, random_state=None,\n",
      "                       verbose=0, warm_start=False),\n",
      "                   'name': 'Random Forest',\n",
      "                   'pipe_params': {'randomforest__max_depth': [200],\n",
      "                                   'randomforest__min_samples_leaf': [1, 2, 3],\n",
      "                                   'randomforest__min_samples_split': [0.0005,\n",
      "                                                                       0.001,\n",
      "                                                                       0.01],\n",
      "                                   'randomforest__n_estimators': [100,\n",
      "                                                                  200,\n",
      "                                                                  300]}},\n",
      " 'svc': {'abbr': 'svc',\n",
      "         'estimator': SVC(C=1.0, break_ties=False, cache_size=200, class_weight=None, coef0=0.0,\n",
      "    decision_function_shape='ovr', degree=3, gamma='scale', kernel='rbf',\n",
      "    max_iter=-1, probability=False, random_state=None, shrinking=True,\n",
      "    tol=0.001, verbose=False),\n",
      "         'name': 'Support Vector Classifier',\n",
      "         'pipe_params': {'svc__C': [1, 2, 3, 4, 5],\n",
      "                         'svc__degree': [1, 2, 3, 4, 5],\n",
      "                         'svc__gamma': ['scale'],\n",
      "                         'svc__kernel': ['linear', 'poly', 'rbf'],\n",
      "                         'svc__probability': [True]}}}\n"
     ]
    }
   ],
   "source": [
    "pprint(estimators)"
   ]
  },
  {
   "cell_type": "markdown",
   "metadata": {},
   "source": [
    "### Compare Subset of Models"
   ]
  },
  {
   "cell_type": "code",
   "execution_count": 19,
   "metadata": {},
   "outputs": [
    {
     "name": "stderr",
     "output_type": "stream",
     "text": [
      "/Users/chris/opt/anaconda3/lib/python3.7/site-packages/sklearn/linear_model/_logistic.py:940: ConvergenceWarning: lbfgs failed to converge (status=1):\n",
      "STOP: TOTAL NO. of ITERATIONS REACHED LIMIT.\n",
      "\n",
      "Increase the number of iterations (max_iter) or scale the data as shown in:\n",
      "    https://scikit-learn.org/stable/modules/preprocessing.html\n",
      "Please also refer to the documentation for alternative solver options:\n",
      "    https://scikit-learn.org/stable/modules/linear_model.html#logistic-regression\n",
      "  extra_warning_msg=_LOGISTIC_SOLVER_CONVERGENCE_MSG)\n"
     ]
    }
   ],
   "source": [
    "esty = {'logreg': estimators['logreg']}\n",
    "\n",
    "compare_df = redfun.compare_models(X_train, X_test, y_train, y_test, estimators=esty, cv=3, verbose=0)"
   ]
  },
  {
   "cell_type": "markdown",
   "metadata": {},
   "source": [
    "### Compare All Models"
   ]
  },
  {
   "cell_type": "code",
   "execution_count": null,
   "metadata": {},
   "outputs": [],
   "source": [
    "compare_df = compare_models(cv=2, verbose=0)"
   ]
  },
  {
   "cell_type": "code",
   "execution_count": 20,
   "metadata": {
    "scrolled": true
   },
   "outputs": [
    {
     "data": {
      "text/html": [
       "<div>\n",
       "<style scoped>\n",
       "    .dataframe tbody tr th:only-of-type {\n",
       "        vertical-align: middle;\n",
       "    }\n",
       "\n",
       "    .dataframe tbody tr th {\n",
       "        vertical-align: top;\n",
       "    }\n",
       "\n",
       "    .dataframe thead th {\n",
       "        text-align: right;\n",
       "    }\n",
       "</style>\n",
       "<table border=\"1\" class=\"dataframe\">\n",
       "  <thead>\n",
       "    <tr style=\"text-align: right;\">\n",
       "      <th></th>\n",
       "      <th>Preprocessor</th>\n",
       "      <th>Estimator</th>\n",
       "      <th>Best Params</th>\n",
       "      <th>Best Train Score</th>\n",
       "      <th>Best Test Score</th>\n",
       "      <th>Variance</th>\n",
       "    </tr>\n",
       "  </thead>\n",
       "  <tbody>\n",
       "    <tr>\n",
       "      <th>1</th>\n",
       "      <td>tfidf</td>\n",
       "      <td>logreg</td>\n",
       "      <td>{'logreg__C': 1, 'logreg__penalty': 'l2', 'tfi...</td>\n",
       "      <td>0.906912</td>\n",
       "      <td>0.741639</td>\n",
       "      <td>18.223725</td>\n",
       "    </tr>\n",
       "    <tr>\n",
       "      <th>0</th>\n",
       "      <td>count_vec</td>\n",
       "      <td>logreg</td>\n",
       "      <td>{'count_vec__max_df': 0.3, 'count_vec__max_fea...</td>\n",
       "      <td>0.892698</td>\n",
       "      <td>0.709030</td>\n",
       "      <td>20.574461</td>\n",
       "    </tr>\n",
       "  </tbody>\n",
       "</table>\n",
       "</div>"
      ],
      "text/plain": [
       "  Preprocessor Estimator                                        Best Params  \\\n",
       "1        tfidf    logreg  {'logreg__C': 1, 'logreg__penalty': 'l2', 'tfi...   \n",
       "0    count_vec    logreg  {'count_vec__max_df': 0.3, 'count_vec__max_fea...   \n",
       "\n",
       "   Best Train Score  Best Test Score   Variance  \n",
       "1          0.906912         0.741639  18.223725  \n",
       "0          0.892698         0.709030  20.574461  "
      ]
     },
     "execution_count": 20,
     "metadata": {},
     "output_type": "execute_result"
    }
   ],
   "source": [
    "compare_df.sort_values(by='Best Test Score', ascending=False)"
   ]
  },
  {
   "cell_type": "code",
   "execution_count": 21,
   "metadata": {
    "scrolled": true
   },
   "outputs": [
    {
     "data": {
      "text/plain": [
       "{'Preprocessor': 'tfidf',\n",
       " 'Estimator': 'logreg',\n",
       " 'Best Params': {'logreg__C': 1,\n",
       "  'logreg__penalty': 'l2',\n",
       "  'tfidf__max_features': 5000,\n",
       "  'tfidf__ngram_range': (1, 1),\n",
       "  'tfidf__stop_words': 'english',\n",
       "  'tfidf__strip_accents': None},\n",
       " 'Best Train Score': 0.9069119286510591,\n",
       " 'Best Test Score': 0.7416387959866221,\n",
       " 'Variance': 18.223724646588813}"
      ]
     },
     "execution_count": 21,
     "metadata": {},
     "output_type": "execute_result"
    }
   ],
   "source": [
    "best_model = compare_df.sort_values(by='Best Test Score', ascending=False).iloc[0, :].to_dict()\n",
    "best_model"
   ]
  },
  {
   "cell_type": "markdown",
   "metadata": {},
   "source": [
    "## Make a new model with the best params from the search"
   ]
  },
  {
   "cell_type": "code",
   "execution_count": 22,
   "metadata": {},
   "outputs": [
    {
     "data": {
      "text/plain": [
       "Pipeline(memory=None,\n",
       "         steps=[('tfidf',\n",
       "                 TfidfVectorizer(analyzer='word', binary=False,\n",
       "                                 decode_error='strict',\n",
       "                                 dtype=<class 'numpy.float64'>,\n",
       "                                 encoding='utf-8', input='content',\n",
       "                                 lowercase=True, max_df=1.0, max_features=5000,\n",
       "                                 min_df=1, ngram_range=(1, 1), norm='l2',\n",
       "                                 preprocessor=None, smooth_idf=True,\n",
       "                                 stop_words='english', strip_accents=None,\n",
       "                                 sublinear_tf=False,\n",
       "                                 token_pattern='(?u)\\\\b\\\\w\\\\w+\\\\b',\n",
       "                                 tokenizer=None, use_idf=True,\n",
       "                                 vocabulary=None)),\n",
       "                ('logreg',\n",
       "                 LogisticRegression(C=1, class_weight=None, dual=False,\n",
       "                                    fit_intercept=True, intercept_scaling=1,\n",
       "                                    l1_ratio=None, max_iter=100,\n",
       "                                    multi_class='auto', n_jobs=None,\n",
       "                                    penalty='l2', random_state=None,\n",
       "                                    solver='lbfgs', tol=0.0001, verbose=0,\n",
       "                                    warm_start=False))],\n",
       "         verbose=False)"
      ]
     },
     "execution_count": 22,
     "metadata": {},
     "output_type": "execute_result"
    }
   ],
   "source": [
    "best_pipe = Pipeline([\n",
    "    (best_model['Preprocessor'], preprocessors[best_model['Preprocessor']]['processor']),\n",
    "    (best_model['Estimator'], estimators[best_model['Estimator']]['estimator'])\n",
    "])\n",
    "best_pipe.set_params(**best_model['Best Params'])\n",
    "# fit on entire dataset\n",
    "best_pipe.fit(X, y)"
   ]
  },
  {
   "cell_type": "code",
   "execution_count": 23,
   "metadata": {},
   "outputs": [
    {
     "data": {
      "text/plain": [
       "0.8986204013377926"
      ]
     },
     "execution_count": 23,
     "metadata": {},
     "output_type": "execute_result"
    }
   ],
   "source": [
    "best_pipe_score = best_pipe.score(X, y)\n",
    "best_pipe_score"
   ]
  },
  {
   "cell_type": "markdown",
   "metadata": {},
   "source": [
    "### Model Improvement"
   ]
  },
  {
   "cell_type": "code",
   "execution_count": 25,
   "metadata": {},
   "outputs": [
    {
     "data": {
      "text/plain": [
       "0    0.208403\n",
       "2    0.207985\n",
       "4    0.204222\n",
       "3    0.191054\n",
       "1    0.188336\n",
       "Name: sub_code, dtype: float64"
      ]
     },
     "execution_count": 25,
     "metadata": {},
     "output_type": "execute_result"
    }
   ],
   "source": [
    "# baseline\n",
    "y.value_counts(normalize=True)"
   ]
  },
  {
   "cell_type": "code",
   "execution_count": 26,
   "metadata": {},
   "outputs": [
    {
     "data": {
      "text/plain": [
       "0.6902173913043478"
      ]
     },
     "execution_count": 26,
     "metadata": {},
     "output_type": "execute_result"
    }
   ],
   "source": [
    "# how much improvement over baseline\n",
    "best_pipe_score - y.value_counts(normalize=True)[0]"
   ]
  },
  {
   "cell_type": "code",
   "execution_count": 29,
   "metadata": {},
   "outputs": [
    {
     "data": {
      "text/plain": [
       "0.1895903010033445"
      ]
     },
     "execution_count": 29,
     "metadata": {},
     "output_type": "execute_result"
    }
   ],
   "source": [
    "# how much difference from the best worst model to the best best model\n",
    "best_pipe_score - min(compare_df['Best Test Score'])"
   ]
  },
  {
   "cell_type": "code",
   "execution_count": 30,
   "metadata": {},
   "outputs": [
    {
     "data": {
      "text/plain": [
       "0.15698160535117056"
      ]
     },
     "execution_count": 30,
     "metadata": {},
     "output_type": "execute_result"
    }
   ],
   "source": [
    "# how much improvement from retraining on entire dataset\n",
    "best_pipe_score - best_model['Best Test Score']"
   ]
  },
  {
   "cell_type": "code",
   "execution_count": null,
   "metadata": {},
   "outputs": [],
   "source": []
  },
  {
   "cell_type": "code",
   "execution_count": null,
   "metadata": {},
   "outputs": [],
   "source": []
  },
  {
   "cell_type": "code",
   "execution_count": null,
   "metadata": {},
   "outputs": [],
   "source": [
    "pipe = Pipeline([('count_vec', CountVectorizer()),(('lr', LogisticRegression()))])"
   ]
  },
  {
   "cell_type": "code",
   "execution_count": null,
   "metadata": {},
   "outputs": [],
   "source": [
    "pipe_params = {\n",
    "                'count_vec__max_features': [4000],\n",
    "                'count_vec__max_df': [.3],\n",
    "                'count_vec__ngram_range': [(1,2)],\n",
    "                'count_vec__stop_words': [custom_stop_words],\n",
    "                'count_vec__min_df': [3],\n",
    "                'lr__penalty': ['l2'],\n",
    "                'lr__C': [5]\n",
    "                }"
   ]
  },
  {
   "cell_type": "code",
   "execution_count": null,
   "metadata": {},
   "outputs": [],
   "source": [
    "model = GridSearchCV(pipe, param_grid=pipe_params, cv=5, verbose=1, n_jobs=-1)"
   ]
  },
  {
   "cell_type": "code",
   "execution_count": null,
   "metadata": {
    "scrolled": true
   },
   "outputs": [],
   "source": [
    "model.fit(X_train, y_train)"
   ]
  },
  {
   "cell_type": "code",
   "execution_count": null,
   "metadata": {},
   "outputs": [],
   "source": [
    "def scores_info(model):    \n",
    "    print('Best Params:')\n",
    "    best_params = model.best_params_\n",
    "    best_params.pop('count_vec__stop_words', 'Aldready deleted')\n",
    "    pprint(best_params)\n",
    "    print()\n",
    "    print(f'Best Modeling Score: {model.best_score_}')\n",
    "    print()\n",
    "    print(f'Train Score: {model.score(X_train, y_train)}')\n",
    "    print()\n",
    "    print(f'Test Score: {model.score(X_test, y_test)}')"
   ]
  },
  {
   "cell_type": "code",
   "execution_count": null,
   "metadata": {},
   "outputs": [],
   "source": [
    "scores_info(model)"
   ]
  },
  {
   "cell_type": "code",
   "execution_count": null,
   "metadata": {},
   "outputs": [],
   "source": []
  },
  {
   "cell_type": "code",
   "execution_count": null,
   "metadata": {},
   "outputs": [],
   "source": [
    "### FIX ###\n",
    "# Hardcoded count_vec\n",
    "# Test for tfidf, may have to hardcode into ds_workflows"
   ]
  },
  {
   "cell_type": "code",
   "execution_count": null,
   "metadata": {
    "scrolled": true
   },
   "outputs": [],
   "source": [
    "# model is GridSearchCV\n",
    "# best_estimator is Pipeline\n",
    "# named_steps is the steps in the pipeline\n",
    "# count_vec is the FITTED \n",
    "\n",
    "features_data = model.best_estimator_.named_steps.count_vec.transform(X).toarray()\n",
    "features_columns = model.best_estimator_.named_steps.count_vec.get_feature_names()\n",
    "features_df = pd.DataFrame(data=features_data, columns=features_columns)"
   ]
  },
  {
   "cell_type": "code",
   "execution_count": null,
   "metadata": {
    "scrolled": false
   },
   "outputs": [],
   "source": [
    "# CHECK ### does this function work with tfidf, or just count vec?\n",
    "def plot_most_common(df, features_df, subreddit_list=subreddit_list, num_features=20, standardize=False, include_combined=False):\n",
    "    '''\n",
    "    Plots the most common features for each subreddit in the DataFrame\n",
    "\n",
    "    Parameters:\n",
    "\n",
    "    df: original DataFrame\n",
    "\n",
    "    features_df: should be output from transformer on df\n",
    "\n",
    "        Example:\n",
    "        features_df = pd.DataFrame(\n",
    "                                data={transformer}.transform(X).toarray(),\n",
    "                                columns={transformer}.get_feature_names())\n",
    "\n",
    "    num_features: number of most common features to plot for each subreddit\n",
    "\n",
    "    standardize: put all of the plots on the same scale\n",
    "\n",
    "    combined: include a plot of the most common features of all of the subreddits combined\n",
    "\n",
    "    Returns:\n",
    "\n",
    "    plots\n",
    "\n",
    "    '''\n",
    "\n",
    "    fig, ax = plt.subplots(ncols=1,\n",
    "                           nrows=len(subreddit_list) + int(1 if include_combined else 0),\n",
    "                           figsize=(15, num_features/1.3*len(subreddit_list)))\n",
    "\n",
    "    for subplot_idx, sub in enumerate(subreddit_list):\n",
    "        sub_features = features_df.loc[df['subreddit'] == sub]\n",
    "        sub_top_words = sub_features.sum().sort_values(ascending=False).head(num_features)[::-1]\n",
    "        sub_top_words.plot(kind='barh', ax=ax[subplot_idx])\n",
    "        ax[subplot_idx].set_title(f'{num_features} Most Common Words for {sub.upper()}', fontsize=16)\n",
    "        \n",
    "        if standardize:\n",
    "            max_occurence = features_df.sum().max()*1.02\n",
    "            ax[subplot_idx].set_xlim(0, max_occurence)\n",
    "\n",
    "    if include_combined:\n",
    "        most_common = features_df.sum().sort_values(ascending=False).head(num_features)[::-1]\n",
    "        most_common.plot(kind='barh', ax=ax[subplot_idx+1])\n",
    "        ax[subplot_idx+1].set_title(f'{num_features} Most Common Words for ({\", \".join(subreddit_list).upper()})')\n",
    "        \n",
    "        if standardize:\n",
    "            ax[subplot_idx+1].set_xlim(0, max_occurence)\n",
    "    \n",
    "    plt.tight_layout(h_pad=7)"
   ]
  },
  {
   "cell_type": "code",
   "execution_count": null,
   "metadata": {
    "scrolled": false
   },
   "outputs": [],
   "source": [
    "plot_most_common(df, features_df, num_features=15, include_combined=True, standardize=True)"
   ]
  },
  {
   "cell_type": "markdown",
   "metadata": {},
   "source": [
    "## Feature Importance Coefficients"
   ]
  },
  {
   "cell_type": "code",
   "execution_count": null,
   "metadata": {},
   "outputs": [],
   "source": [
    "###HELP### I don't think this is working right\n",
    "###HELP### coefficients don't make sense for the entire dataset, would need to do one for each thing"
   ]
  },
  {
   "cell_type": "code",
   "execution_count": null,
   "metadata": {},
   "outputs": [],
   "source": [
    "###NOTE### coefficients only for lr and etc etc etc...\n",
    "###NOTE### coefficients only for two subreddits\n",
    "\n",
    "### FIX ### look at the coef_ portion of the new single model instead of the gridsearch\n",
    "\n",
    "\n",
    "# [-1][1] for last step (estimator)(instantiation)\n",
    "# coef_[0]because I don't know why\n",
    "coefs = model.best_estimator_.steps[-1][1].coef_[0]\n",
    "\n",
    "\n",
    "\n",
    "\n",
    "plt.figure(figsize=(16, 12))\n",
    "plt.title('Feature Importance (Coefficients)', fontsize=20)\n",
    "plt.ylabel('Features', fontsize=18)\n",
    "plt.xlabel('(Abs) Coefficients', fontsize=18)\n",
    "\n",
    "coef_df = pd.DataFrame(data=[coefs], columns=features_columns).T\n",
    "coef_df['abs_coef'] = coef_df[0].abs()\n",
    "coef_df.sort_values('abs_coef', ascending=False)[0].head(15).plot(kind='barh');\n",
    "\n",
    "# coef_kill = coef_df.sort_values('abs_coef', ascending=False)[0].head(500).index\n",
    "\n",
    "# coef_kill\n",
    "\n",
    "\n",
    "# my_stops.extend(coef_kill)"
   ]
  },
  {
   "cell_type": "code",
   "execution_count": null,
   "metadata": {},
   "outputs": [],
   "source": [
    "from itertools import combinations"
   ]
  },
  {
   "cell_type": "code",
   "execution_count": null,
   "metadata": {},
   "outputs": [],
   "source": [
    "def make_pairs(subreddit_list):\n",
    "    '''\n",
    "    Makes combination pairs of subreddits from subreddit_list\n",
    "    '''\n",
    "    if len(subreddit_list) > 2:\n",
    "            return list(combinations(subreddit_list, 2))\n",
    "    return subreddit_list"
   ]
  },
  {
   "cell_type": "code",
   "execution_count": null,
   "metadata": {},
   "outputs": [],
   "source": [
    "pairs = make_pairs(subreddit_list)\n",
    "pairs"
   ]
  },
  {
   "cell_type": "code",
   "execution_count": null,
   "metadata": {
    "scrolled": false
   },
   "outputs": [],
   "source": [
    "def plot_most_common_pairs(df, features_df, pairs, num_features=20):\n",
    "    '''\n",
    "    Plots the most common features for each subreddit in the DataFrame\n",
    "    \n",
    "    Parameters:\n",
    "    \n",
    "    df: original DataFrame\n",
    "    \n",
    "    features_df: should be output from transformer on df\n",
    "        \n",
    "        Example:\n",
    "        features_df = pd.DataFrame(\n",
    "                                data={transformer}.transform(X).toarray(),\n",
    "                                columns={transformer}.get_feature_names())\n",
    "    \n",
    "    num_features: number of most common features to plot for each subreddit\n",
    "    \n",
    "    Returns:\n",
    "    \n",
    "    plots\n",
    "    \n",
    "    '''\n",
    "    fig, ax = plt.subplots(ncols=2, \n",
    "                           nrows=len(pairs), \n",
    "                           figsize=(16,num_features/3*len(pairs)))\n",
    "\n",
    "    for i, pair in enumerate(pairs):\n",
    "\n",
    "        # features for each pair\n",
    "        feats_0 = features_df.loc[(df['subreddit'] == pair[0])]\n",
    "        feats_1 = features_df.loc[(df['subreddit'] == pair[1])]\n",
    "        # combined\n",
    "        common_feats = feats_0.append(feats_1)\n",
    "        # this is the most common between the two\n",
    "        most_common = common_feats.sum().sort_values(ascending=False).head(num_features)[::-1]\n",
    "        # plot\n",
    "        feats_0[most_common.index].sum().plot.barh(ax=ax[i, 0], color='navy')\n",
    "        feats_1[most_common.index].sum().plot.barh(ax=ax[i, 1], color='orange')\n",
    "        ax[i, 0].set_title(f'Top {num_features} - {pair} \\nSub: {pair[0].upper()}', fontsize=16, wrap=True)\n",
    "        ax[i, 1].set_title(f'Top {num_features} - {pair} \\nSub: {pair[1].upper()}', fontsize=16, wrap=True)\n",
    "        max_occurence = common_feats.sum().max()*1.02\n",
    "        ax[i, 0].set_xlim(0,max_occurence)\n",
    "        ax[i, 1].set_xlim(0,max_occurence)\n",
    "    plt.tight_layout()"
   ]
  },
  {
   "cell_type": "code",
   "execution_count": null,
   "metadata": {
    "scrolled": false
   },
   "outputs": [],
   "source": [
    "plot_most_common_pairs(df, features_df, pairs)"
   ]
  },
  {
   "cell_type": "code",
   "execution_count": null,
   "metadata": {},
   "outputs": [],
   "source": [
    "most_common = features_df.sum().sort_values(ascending=False).head(20)[::-1]\n",
    "groups = features_df.groupby(df['subreddit']).sum()[most_common.index].T.head(20)"
   ]
  },
  {
   "cell_type": "code",
   "execution_count": null,
   "metadata": {
    "scrolled": false
   },
   "outputs": [],
   "source": [
    "fig, ax = plt.subplots(nrows=2, figsize=(18,20))\n",
    "\n",
    "groups.plot.bar(ax=ax[0], width=.8, fontsize=15)\n",
    "ax[0].set_title('20 Most Common Words', fontsize=20)\n",
    "ax[0].set_ylabel('# of Occurences', fontsize=15)\n",
    "ax[0].legend(fontsize=15, fancybox=True, framealpha=1, shadow=True, borderpad=1)\n",
    "\n",
    "groups.plot(kind='bar', ax=ax[1], width=.35, fontsize=15, stacked=True)\n",
    "ax[1].set_title('20 Most Common Words', fontsize=20)\n",
    "ax[1].set_ylabel('# of Occurences', fontsize=15)\n",
    "ax[1].legend(fontsize=15, fancybox=True, framealpha=1, shadow=True, borderpad=1)\n",
    "\n",
    "\n",
    "plt.tight_layout(h_pad=10);"
   ]
  },
  {
   "cell_type": "code",
   "execution_count": null,
   "metadata": {},
   "outputs": [],
   "source": [
    "# NOTE ### this does not use the X value inputted when using split...\n",
    "\n",
    "\n",
    "def make_cloud(X, height=300, width=800, max_words=100, split=None, labels=None, stopwords=None, colormap='viridis', background_color='black'):\n",
    "    '''\n",
    "    Inputs:\n",
    "    X: text input\n",
    "    height: height of each wordcloud\n",
    "    width: width of each wordcloud\n",
    "    max_words: max words for each wordcloud\n",
    "    split: if True, wordcloud for each subreddit\n",
    "    labels: must provide list of labels if split=True, to generate a wordcloud for each label\n",
    "    stopwords: usually these are the same stopwords used by the tranformer (CountVectorizer or Tfidf)\n",
    "    colormap: any choice from matplotlib gallery.  Find them with plt.cm.datad\n",
    "        'random': picks a random colormap for each cloud.\n",
    "    '''\n",
    "\n",
    "    colormaps = [m for m in plt.cm.datad if not m.endswith(\"_r\")]\n",
    "    wc = wordcloud.WordCloud(max_words=max_words,\n",
    "                             width=width,\n",
    "                             height=height,\n",
    "                             background_color=background_color,\n",
    "                             colormap=np.random.choice(\n",
    "                                 colormaps) if colormap == 'random' else colormap,\n",
    "                             stopwords=stopwords)\n",
    "    if split:\n",
    "        for label in labels:\n",
    "            cloud = wc.generate(\n",
    "                df[df['subreddit'] == label]['title'].str.cat())\n",
    "            plt.figure(figsize=(width/100, height*len(labels)/100), dpi=100)\n",
    "            plt.title(label.upper(), fontdict={'fontsize': 15})\n",
    "            plt.axis(\"off\")\n",
    "            plt.imshow(cloud.to_image(), interpolation='bilinear')\n",
    "\n",
    "    else:\n",
    "        cloud = wc.generate(X.str.cat())\n",
    "        return cloud.to_image()"
   ]
  },
  {
   "cell_type": "code",
   "execution_count": null,
   "metadata": {
    "scrolled": false
   },
   "outputs": [],
   "source": [
    "make_cloud(X, stopwords=custom_stop_words, colormap='rainbow')"
   ]
  },
  {
   "cell_type": "code",
   "execution_count": null,
   "metadata": {},
   "outputs": [],
   "source": [
    "make_cloud(X, split=True, labels=subreddit_list, stopwords=custom_stop_words, colormap='random', background_color='black')"
   ]
  },
  {
   "cell_type": "code",
   "execution_count": null,
   "metadata": {},
   "outputs": [],
   "source": [
    "img = Image.open('../images/reddit03.png')\n",
    "gray = np.array(img.convert('L'))\n",
    "mask = np.where(gray < 200, 255, 0)\n",
    "\n",
    "wc = wordcloud.WordCloud(background_color='white', \n",
    "                         max_words=500, \n",
    "                         mask=mask, \n",
    "                         colormap='Reds',\n",
    "                         contour_color='orangered',\n",
    "                         contour_width=1,\n",
    "                         stopwords=custom_stop_words)\n",
    "wc.generate(X.str.cat())\n",
    "plt.figure(figsize=(12,12))\n",
    "plt.imshow(wc, interpolation='bilinear')\n",
    "plt.axis(False);"
   ]
  },
  {
   "cell_type": "code",
   "execution_count": null,
   "metadata": {
    "scrolled": false
   },
   "outputs": [],
   "source": [
    "img2 = Image.open('../images/reddit02.jpg')\n",
    "gray2 = np.array(img2.convert('L'))\n",
    "mask2 = np.where(gray2 < 200, 255, 0)\n",
    "\n",
    "wc2 = wordcloud.WordCloud(background_color='white', \n",
    "                         max_words=1000, \n",
    "                         mask=mask2, \n",
    "                         colormap='Reds',\n",
    "                         contour_color='orangered',\n",
    "                         contour_width=1,\n",
    "                         stopwords=custom_stop_words)\n",
    "wc2.generate(X.str.cat())\n",
    "plt.figure(figsize=(8,12))\n",
    "plt.imshow(wc2, interpolation='bilinear')\n",
    "plt.axis(False)\n",
    "\n",
    "plt.show()"
   ]
  },
  {
   "cell_type": "code",
   "execution_count": null,
   "metadata": {
    "scrolled": false
   },
   "outputs": [],
   "source": [
    "mask = np.array(Image.open(\"../images/reddit06.jpg\"))\n",
    "colorcloud = wordcloud.WordCloud(stopwords=custom_stop_words,\n",
    "                                 background_color=\"white\",\n",
    "                                 mode=\"RGBA\",\n",
    "                                 max_words=1000,\n",
    "                                 mask=mask)\n",
    "colorcloud.generate(X.str.cat())\n",
    "\n",
    "image_colors = wordcloud.ImageColorGenerator(mask)\n",
    "plt.figure(figsize=[7, 7])\n",
    "\n",
    "fig, (ax1, ax2) = plt.subplots(nrows=1, ncols=2, figsize=(20, 10))\n",
    "\n",
    "ax1.imshow(mask)\n",
    "ax1.axis(False)\n",
    "\n",
    "ax2.imshow(colorcloud.recolor(color_func=image_colors),\n",
    "           interpolation=\"bilinear\")\n",
    "ax2.axis(False)\n",
    "\n",
    "plt.show();"
   ]
  },
  {
   "cell_type": "markdown",
   "metadata": {},
   "source": [
    "## Confusion Matrix"
   ]
  },
  {
   "cell_type": "code",
   "execution_count": null,
   "metadata": {},
   "outputs": [],
   "source": [
    "y_pred = model.predict(X_test)"
   ]
  },
  {
   "cell_type": "code",
   "execution_count": null,
   "metadata": {},
   "outputs": [],
   "source": [
    "cm = confusion_matrix(y_test, y_pred)"
   ]
  },
  {
   "cell_type": "code",
   "execution_count": null,
   "metadata": {
    "scrolled": true
   },
   "outputs": [],
   "source": [
    "df_cm = pd.DataFrame(cm, columns=subreddit_list, index=subreddit_list)\n",
    "df_cm.index.name = 'Actual'\n",
    "df_cm.columns.name = 'Predicted'\n",
    "df_cm"
   ]
  },
  {
   "cell_type": "code",
   "execution_count": null,
   "metadata": {},
   "outputs": [],
   "source": []
  },
  {
   "cell_type": "code",
   "execution_count": null,
   "metadata": {},
   "outputs": [],
   "source": [
    "fig, ax = plt.subplots(figsize=(6,6))\n",
    "sns.set(font_scale=2)\n",
    "sns.heatmap(df_cm, annot=True, fmt=\"d\", cbar=False, cmap='Greens', ax=ax, )\n",
    "fontdict={'fontsize': 16}\n",
    "ax.set_yticklabels(labels=subreddit_list, rotation='horizontal', fontdict=fontdict)\n",
    "ax.set_xticklabels(labels=subreddit_list, rotation=20, fontdict=fontdict)\n",
    "ax.xaxis.tick_top()\n",
    "ax.xaxis.set_label_position('top')"
   ]
  },
  {
   "cell_type": "code",
   "execution_count": null,
   "metadata": {},
   "outputs": [],
   "source": [
    "mcm = multilabel_confusion_matrix(y_test, y_pred)\n",
    "mtn = mcm[:, 0, 0]\n",
    "mtp = mcm[:, 1, 1]\n",
    "mfn = mcm[:, 1, 0]\n",
    "mfp = mcm[:, 0, 1]\n",
    "print(mcm)"
   ]
  },
  {
   "cell_type": "code",
   "execution_count": null,
   "metadata": {
    "scrolled": false
   },
   "outputs": [],
   "source": [
    "fig, ax = plt.subplots(ncols=2, nrows=len(subreddit_list),\n",
    "                       figsize=(12, 6*len(subreddit_list)))\n",
    "\n",
    "for i, cm in enumerate(mcm):\n",
    "    df_cm = pd.DataFrame(cm)\n",
    "    df_cm.index.name = 'Actual'\n",
    "    df_cm.columns.name = 'Predicted'\n",
    "    sns.heatmap(df_cm, annot=True, fmt=\"d\", cbar=False,\n",
    "                cmap='Purples', ax=ax[i, 0])\n",
    "\n",
    "    ax[i, 0].set_yticklabels(labels=[1, 0], rotation='horizontal')\n",
    "    ax[i, 0].set_xticklabels(labels=[1, 0])\n",
    "    ax[i, 0].xaxis.tick_top()\n",
    "    ax[i, 0].xaxis.set_label_position('top')\n",
    "    ax[i, 0].set_title(subreddit_list[i].upper())\n",
    "\n",
    "    tn, fp, fn, tp = cm.ravel()\n",
    "    specif = tn / (tn + fp)\n",
    "\n",
    "    sens = tp / (tp + fn)\n",
    "    box_text = f'''Subreddit: {subreddit_list[i].upper()}\\n\\nSpecificity: {round(specif,4)}\\n\\nSensitivity: {round(sens,4)}'''\n",
    "    ax[i, 1].text(0.5, 0.5, box_text, horizontalalignment='center',\n",
    "                  verticalalignment='center', fontsize=24)\n",
    "    ax[i, 1].set_axis_off()\n",
    "\n",
    "\n",
    "plt.tight_layout()"
   ]
  },
  {
   "cell_type": "code",
   "execution_count": null,
   "metadata": {
    "scrolled": true
   },
   "outputs": [],
   "source": [
    "print(classification_report(y_test, y_pred, digits=3, target_names=subreddit_list))"
   ]
  },
  {
   "cell_type": "code",
   "execution_count": null,
   "metadata": {},
   "outputs": [],
   "source": []
  },
  {
   "cell_type": "markdown",
   "metadata": {},
   "source": [
    "### ROC AUC Score"
   ]
  },
  {
   "cell_type": "markdown",
   "metadata": {},
   "source": [
    "<h1>TODO:</h1>\n",
    "\n",
    "1. Make it have the roc for each sub, have to get into the original df where subname equals indexes?\n",
    "2. Plot confusion matrix\n",
    "3. Make a notebook to test the confusion matrixes one by one with each individual model."
   ]
  },
  {
   "cell_type": "code",
   "execution_count": null,
   "metadata": {},
   "outputs": [],
   "source": [
    "y_test.index"
   ]
  },
  {
   "cell_type": "code",
   "execution_count": null,
   "metadata": {
    "scrolled": true
   },
   "outputs": [],
   "source": [
    "auc = roc_auc_score(y_test, y_pred)\n",
    "auc"
   ]
  },
  {
   "cell_type": "markdown",
   "metadata": {},
   "source": [
    "### ROC AUC Curve"
   ]
  },
  {
   "cell_type": "code",
   "execution_count": null,
   "metadata": {},
   "outputs": [],
   "source": [
    "probs = model.predict_proba(X_test)[:,1]"
   ]
  },
  {
   "cell_type": "code",
   "execution_count": null,
   "metadata": {},
   "outputs": [],
   "source": [
    "# not multiclass\n",
    "fpr, tpr, thresholds = roc_curve(y_test, probs)"
   ]
  },
  {
   "cell_type": "code",
   "execution_count": null,
   "metadata": {
    "scrolled": false
   },
   "outputs": [],
   "source": [
    "plt.figure(figsize=(10, 7))\n",
    "plt.plot(fpr, tpr, label=f'ROC curve (area = {auc})', color='r', marker='D')\n",
    "plt.plot([0, 1], [0, 1], 'k--')\n",
    "plt.xlim([0.0, 1.0])\n",
    "plt.ylim([0.0, 1.0])\n",
    "plt.xlabel('False Positive Rate (1 - Specificity)', size=16)\n",
    "plt.ylabel('True Positive Rate (Sensitivity)', size=16)\n",
    "plt.title('ROC Curve', size=20)\n",
    "plt.legend(fontsize=14);"
   ]
  },
  {
   "cell_type": "markdown",
   "metadata": {},
   "source": [
    "# Histograms!"
   ]
  },
  {
   "cell_type": "code",
   "execution_count": null,
   "metadata": {},
   "outputs": [],
   "source": [
    "x1 = np.random.normal(0, 0.8, 1000) x2 = np.random.normal(-2, 1, 1000) x3 = np.random.normal(3, 2, 1000)\n",
    "kwargs = dict(histtype='stepfilled', alpha=0.3, normed=True, bins=40)\n",
    "plt.hist(x1, **kwargs) plt.hist(x2, **kwargs) plt.hist(x3, **kwargs);"
   ]
  },
  {
   "cell_type": "code",
   "execution_count": null,
   "metadata": {
    "scrolled": false
   },
   "outputs": [],
   "source": [
    "# Create figure.\n",
    "plt.figure(figsize = (10,7))\n",
    "\n",
    "# Create histogram of observations.\n",
    "plt.hist(probs, bins=25, color='b')\n",
    "\n",
    "# Label axes.\n",
    "plt.title('Distribution of P(Outcome = 1)', fontsize=22)\n",
    "plt.ylabel('Frequency', fontsize=18)\n",
    "plt.xlabel('Predicted Probability that Outcome = 1', fontsize=18);"
   ]
  },
  {
   "cell_type": "code",
   "execution_count": null,
   "metadata": {},
   "outputs": [],
   "source": [
    "# Create figure.\n",
    "plt.figure(figsize = (10,7))\n",
    "\n",
    "# Create two histograms of observations.\n",
    "hst0 = plt.hist(probs[y_test == 0],\n",
    "         bins=25,\n",
    "         color='b',\n",
    "         alpha = 0.6,\n",
    "         label='Technology',)\n",
    "\n",
    "hst1 = plt.hist(probs[y_test == 1],\n",
    "         bins=25,\n",
    "         color='orange',\n",
    "         alpha = 0.6,\n",
    "         label='Science')\n",
    "\n",
    "# Add vertical line at P(Outcome = 1) = 0.5.\n",
    "plt.vlines(x=0.5,\n",
    "           ymin = 0,\n",
    "           ymax = max(hst1[0].max(), hst0[0].max()), # Max of the two highest respective hist values\n",
    "           color='r',\n",
    "           linestyle = '--')\n",
    "\n",
    "# Label axes.\n",
    "plt.title('Distribution of P(Science)', fontsize=22)\n",
    "plt.ylabel('Frequency', fontsize=18)\n",
    "plt.xlabel('Predicted Probability', fontsize=18)\n",
    "\n",
    "# Create legend.\n",
    "plt.legend(fontsize=20);\n",
    "\n",
    "# Thanks to Matt Brems for the colorful graphs! :)"
   ]
  },
  {
   "cell_type": "code",
   "execution_count": null,
   "metadata": {},
   "outputs": [],
   "source": []
  },
  {
   "cell_type": "code",
   "execution_count": null,
   "metadata": {},
   "outputs": [],
   "source": []
  }
 ],
 "metadata": {
  "kernelspec": {
   "display_name": "Python 3",
   "language": "python",
   "name": "python3"
  },
  "language_info": {
   "codemirror_mode": {
    "name": "ipython",
    "version": 3
   },
   "file_extension": ".py",
   "mimetype": "text/x-python",
   "name": "python",
   "nbconvert_exporter": "python",
   "pygments_lexer": "ipython3",
   "version": "3.8.2-final"
  },
  "toc": {
   "base_numbering": 1,
   "nav_menu": {},
   "number_sections": true,
   "sideBar": true,
   "skip_h1_title": false,
   "title_cell": "Table of Contents",
   "title_sidebar": "Contents",
   "toc_cell": false,
   "toc_position": {},
   "toc_section_display": true,
   "toc_window_display": false
  },
  "varInspector": {
   "cols": {
    "lenName": 16,
    "lenType": 16,
    "lenVar": 40
   },
   "kernels_config": {
    "python": {
     "delete_cmd_postfix": "",
     "delete_cmd_prefix": "del ",
     "library": "var_list.py",
     "varRefreshCmd": "print(var_dic_list())"
    },
    "r": {
     "delete_cmd_postfix": ") ",
     "delete_cmd_prefix": "rm(",
     "library": "var_list.r",
     "varRefreshCmd": "cat(var_dic_list()) "
    }
   },
   "types_to_exclude": [
    "module",
    "function",
    "builtin_function_or_method",
    "instance",
    "_Feature"
   ],
   "window_display": false
  }
 },
 "nbformat": 4,
 "nbformat_minor": 4
}